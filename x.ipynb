{
 "cells": [
  {
   "cell_type": "code",
   "execution_count": 4,
   "metadata": {},
   "outputs": [],
   "source": [
    "from IPython.core.magic import Magics, cell_magic, magics_class\n",
    "from IPython.utils.capture import capture_output\n",
    "from IPython import get_ipython\n",
    "\n",
    "\n",
    "@magics_class\n",
    "class CaptureMagic(Magics):\n",
    "    @cell_magic\n",
    "    def to_md(self, line, cell):\n",
    "        with capture_output(stdout=True, stderr=False, display=False) as result:\n",
    "            self.shell.run_cell(cell)\n",
    "            message = result.stdout\n",
    "\n",
    "        print(message)\n",
    "        print(\"#### Markdown #### \\n\")\n",
    "        markdown_string = \"\"\n",
    "        markdown_string += \"```python\\n\"\n",
    "        markdown_string += cell\n",
    "        markdown_string += \"```\\n\"\n",
    "\n",
    "        if len(message) != 0:\n",
    "            markdown_string += \"```console\\n\"\n",
    "            markdown_string += \"# out:\\n\"\n",
    "            markdown_string += message\n",
    "            markdown_string += \"```\\n\"\n",
    "\n",
    "        print(markdown_string)\n",
    "\n",
    "\n",
    "ipy = get_ipython()\n",
    "ipy.register_magics(CaptureMagic)\n"
   ]
  },
  {
   "cell_type": "code",
   "execution_count": 5,
   "metadata": {},
   "outputs": [
    {
     "name": "stdout",
     "output_type": "stream",
     "text": [
      "hi\n",
      "8\n",
      "\n",
      "#### Markdown #### \n",
      "\n",
      "```python\n",
      "print(\"hi\")\n",
      "print(4+4)\n",
      "```\n",
      "```console\n",
      "# out:\n",
      "hi\n",
      "8\n",
      "```\n",
      "\n"
     ]
    }
   ],
   "source": [
    "%%to_md\n",
    "print(\"hi\")\n",
    "print(4 + 4)"
   ]
  },
  {
   "cell_type": "code",
   "execution_count": 6,
   "metadata": {},
   "outputs": [
    {
     "name": "stdout",
     "output_type": "stream",
     "text": [
      "\n",
      "#### Markdown #### \n",
      "\n",
      "```python\n",
      "pass\n",
      "```\n",
      "\n"
     ]
    }
   ],
   "source": [
    "%%to_md\n",
    "pass"
   ]
  }
 ],
 "metadata": {
  "kernelspec": {
   "display_name": ".venv",
   "language": "python",
   "name": "python3"
  },
  "language_info": {
   "codemirror_mode": {
    "name": "ipython",
    "version": 3
   },
   "file_extension": ".py",
   "mimetype": "text/x-python",
   "name": "python",
   "nbconvert_exporter": "python",
   "pygments_lexer": "ipython3",
   "version": "3.10.9"
  },
  "orig_nbformat": 4
 },
 "nbformat": 4,
 "nbformat_minor": 2
}
