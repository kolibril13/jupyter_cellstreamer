{
 "cells": [
  {
   "cell_type": "code",
   "execution_count": 23,
   "metadata": {},
   "outputs": [],
   "source": [
    "\n",
    "\n",
    "from io import BytesIO\n",
    "from base64 import b64decode\n",
    "\n",
    "from IPython.core import magic_arguments\n",
    "from IPython.core.magic import Magics, cell_magic, magics_class\n",
    "from IPython.display import display\n",
    "from IPython.utils.capture import capture_output\n",
    "from PIL import Image\n",
    "from pathlib import Path\n",
    "from pprint import pprint # for debugging\n",
    "import re\n",
    "\n",
    "\n",
    "def path_preprocessing(path):\n",
    "    # print(type(path))  # for debugging\n",
    "    path_pathlib = Path(path)\n",
    "    if not path_pathlib.parent.exists():\n",
    "        path_pathlib.parent.mkdir(exist_ok=False, parents=True)\n",
    "        print(f\"Note: The {path_pathlib.parent} directory was successfully created.\")\n",
    "\n",
    "    if not path_pathlib.exists():\n",
    "        print(f\"Output saved by creating file at {path_pathlib}.\")\n",
    "        # TODO: Call this later maybe?\n",
    "\n",
    "    if path_pathlib.exists():\n",
    "        print(f\"Output saved by overwring previous file at {path_pathlib}.\")\n",
    "        # TODO: Call this later maybe?\n",
    "\n",
    "    return path_pathlib\n",
    "\n",
    "@magics_class\n",
    "class CaptureMagic(Magics):\n",
    "    @magic_arguments.magic_arguments()  ################### TEXT\n",
    "    @magic_arguments.argument(\n",
    "        \"--path\",\n",
    "        \"-p\",\n",
    "        default=None,\n",
    "        help=(\"The path where the text will be saved to\"),\n",
    "    )\n",
    "    @cell_magic\n",
    "    def to_md(self, line, cell):\n",
    "        args = magic_arguments.parse_argstring(CaptureMagic.to_md, line)\n",
    "        paths_string = args.path.strip('\"').split(\" \")\n",
    "        paths_pathlib = []\n",
    "        for path_str in paths_string:\n",
    "            path_pathlib = path_preprocessing(path_str)\n",
    "            paths_pathlib.append(path_pathlib)\n",
    "\n",
    "        # TODO: for capture_text, paths_string has only one element, so this would not be necessary here.\n",
    "        # It's just for convenicene, as the other capture functions are implemented with the same loop.\n",
    "\n",
    "        with capture_output(stdout=True, stderr=False, display=False) as result:\n",
    "            self.shell.run_cell(cell)\n",
    "            message = result.stdout\n",
    "\n",
    "        if len(message) == 0:\n",
    "            raise ValueError(\"No standard output (stdout) found!\")\n",
    "        print(message)\n",
    "        dest = paths_pathlib[0]\n",
    "        dest.write_text(message)\n",
    "        print(\"#### Markdown #### \\n\")\n",
    "        markdown_string = \"\"\n",
    "        markdown_string += \"```python\\n\"\n",
    "        markdown_string += cell\n",
    "        markdown_string += \"```\\n\"\n",
    "        markdown_string += \"```\\n\"\n",
    "        markdown_string += \"# out:\\n\"\n",
    "\n",
    "        markdown_string += str(result)\n",
    "        markdown_string += \"```\\n\"\n",
    "        print(markdown_string)\n",
    "\n",
    "\n",
    "\n",
    "ipy = get_ipython()\n",
    "ipy.register_magics(CaptureMagic)"
   ]
  },
  {
   "cell_type": "code",
   "execution_count": 24,
   "metadata": {},
   "outputs": [
    {
     "data": {
      "text/plain": [
       "10"
      ]
     },
     "execution_count": 24,
     "metadata": {},
     "output_type": "execute_result"
    },
    {
     "name": "stdout",
     "output_type": "stream",
     "text": [
      "Output saved by overwring previous file at test.txt.\n",
      "hi\n",
      "\n",
      "#### Markdown #### \n",
      "\n",
      "```python\n",
      "print(\"hi\")\n",
      "x =10\n",
      "x\n",
      "```\n",
      "```\n",
      "# out:\n",
      "hi\n",
      "```\n",
      "\n"
     ]
    }
   ],
   "source": [
    "%%to_md  --path \"test.txt\"\n",
    "print(\"hi\")\n",
    "x =10\n",
    "x"
   ]
  },
  {
   "cell_type": "code",
   "execution_count": null,
   "metadata": {},
   "outputs": [],
   "source": []
  }
 ],
 "metadata": {
  "kernelspec": {
   "display_name": ".venv",
   "language": "python",
   "name": "python3"
  },
  "language_info": {
   "codemirror_mode": {
    "name": "ipython",
    "version": 3
   },
   "file_extension": ".py",
   "mimetype": "text/x-python",
   "name": "python",
   "nbconvert_exporter": "python",
   "pygments_lexer": "ipython3",
   "version": "3.10.9"
  },
  "orig_nbformat": 4
 },
 "nbformat": 4,
 "nbformat_minor": 2
}
